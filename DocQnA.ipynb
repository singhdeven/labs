{
 "cells": [
  {
   "cell_type": "code",
   "execution_count": 18,
   "id": "bf0c7957-c1a9-400f-8437-5adc136cf133",
   "metadata": {},
   "outputs": [
    {
     "name": "stdout",
     "output_type": "stream",
     "text": [
      "Requirement already satisfied: pytesseract in c:\\users\\mrdevendrasingh\\appdata\\local\\programs\\python\\python313\\lib\\site-packages (0.3.13)\n",
      "Requirement already satisfied: packaging>=21.3 in c:\\users\\mrdevendrasingh\\appdata\\local\\programs\\python\\python313\\lib\\site-packages (from pytesseract) (25.0)\n",
      "Requirement already satisfied: Pillow>=8.0.0 in c:\\users\\mrdevendrasingh\\appdata\\local\\programs\\python\\python313\\lib\\site-packages (from pytesseract) (11.2.1)\n"
     ]
    },
    {
     "name": "stderr",
     "output_type": "stream",
     "text": [
      "\n",
      "[notice] A new release of pip is available: 25.0.1 -> 25.1.1\n",
      "[notice] To update, run: python.exe -m pip install --upgrade pip\n"
     ]
    }
   ],
   "source": [
    "!pip install pytesseract"
   ]
  },
  {
   "cell_type": "code",
   "execution_count": 19,
   "id": "5756c2d7-5a1a-4daa-addc-1db80b6035b8",
   "metadata": {},
   "outputs": [
    {
     "name": "stdout",
     "output_type": "stream",
     "text": [
      "Requirement already satisfied: pytesseract in c:\\users\\mrdevendrasingh\\appdata\\local\\programs\\python\\python313\\lib\\site-packages (0.3.13)\n",
      "Requirement already satisfied: packaging>=21.3 in c:\\users\\mrdevendrasingh\\appdata\\local\\programs\\python\\python313\\lib\\site-packages (from pytesseract) (25.0)\n",
      "Requirement already satisfied: Pillow>=8.0.0 in c:\\users\\mrdevendrasingh\\appdata\\local\\programs\\python\\python313\\lib\\site-packages (from pytesseract) (11.2.1)\n"
     ]
    },
    {
     "name": "stderr",
     "output_type": "stream",
     "text": [
      "\n",
      "[notice] A new release of pip is available: 25.0.1 -> 25.1.1\n",
      "[notice] To update, run: python.exe -m pip install --upgrade pip\n"
     ]
    }
   ],
   "source": [
    "!pip install pytesseract"
   ]
  },
  {
   "cell_type": "code",
   "execution_count": 20,
   "id": "6ba0abf7-32b3-480c-90d5-3673f2c980f6",
   "metadata": {},
   "outputs": [
    {
     "name": "stdout",
     "output_type": "stream",
     "text": [
      "Requirement already satisfied: pdf2image in c:\\users\\mrdevendrasingh\\appdata\\local\\programs\\python\\python313\\lib\\site-packages (1.17.0)\n",
      "Requirement already satisfied: pillow in c:\\users\\mrdevendrasingh\\appdata\\local\\programs\\python\\python313\\lib\\site-packages (from pdf2image) (11.2.1)\n"
     ]
    },
    {
     "name": "stderr",
     "output_type": "stream",
     "text": [
      "\n",
      "[notice] A new release of pip is available: 25.0.1 -> 25.1.1\n",
      "[notice] To update, run: python.exe -m pip install --upgrade pip\n"
     ]
    }
   ],
   "source": [
    "!pip install pdf2image"
   ]
  },
  {
   "cell_type": "code",
   "execution_count": 10,
   "id": "98cf0318-643e-41c5-9ca7-ed93747b084a",
   "metadata": {},
   "outputs": [],
   "source": [
    "import os\n",
    "import requests\n",
    "import pdfplumber\n",
    "import pytesseract\n",
    "from pdf2image import convert_from_path\n",
    "\n",
    "def extract_text_from_pdf(pdf_path):\n",
    "    \"\"\"Try extracting text using pdfplumber, fallback to OCR if needed.\"\"\"\n",
    "    try:\n",
    "        with pdfplumber.open(pdf_path) as pdf:\n",
    "            text = \"\\n\".join([p.extract_text() or \"\" for p in pdf.pages]).strip()\n",
    "        if text:\n",
    "            return text\n",
    "    except Exception as e:\n",
    "        print(\"pdfplumber failed:\", e)\n",
    "\n",
    "    print(\"Using OCR fallback...\")\n",
    "    images = convert_from_path(pdf_path)\n",
    "    ocr_text = \"\"\n",
    "    for img in images:\n",
    "        ocr_text += pytesseract.image_to_string(img)\n",
    "    return ocr_text.strip()\n",
    "\n",
    "def ask_pdf_question(pdf_text, question, api_url=\"http://localhost:1234/v1/chat/completions\", model_name=\"phi-3.1-mini-128k-instruct\"):\n",
    "    \"\"\"Sends the PDF content and user question to the model.\"\"\"\n",
    "    prompt = f\"You are given the following document:\\n\\n{pdf_text[:12000]}\\n\\nAnswer the following question based on it:\\n\\n{question}\"\n",
    "\n",
    "    payload = {\n",
    "        \"model\": model_name,\n",
    "        \"messages\": [\n",
    "            {\"role\": \"system\", \"content\": \"You are a helpful assistant that answers questions based on provided documents.\"},\n",
    "            {\"role\": \"user\", \"content\": prompt}\n",
    "        ],\n",
    "        \"temperature\": 0.3,\n",
    "        \"max_tokens\": 1024\n",
    "    }\n",
    "\n",
    "    response = requests.post(api_url, json=payload)\n",
    "    if response.status_code == 200:\n",
    "        return response.json()['choices'][0]['message']['content']\n",
    "    else:\n",
    "        raise Exception(f\"API Error {response.status_code}: {response.text}\")\n"
   ]
  },
  {
   "cell_type": "code",
   "execution_count": null,
   "id": "d27f5985-b9d4-48d8-aad8-fd46b649d0a4",
   "metadata": {},
   "outputs": [
    {
     "name": "stdin",
     "output_type": "stream",
     "text": [
      "Enter the path to your PDF file:  TataComms-q4-fy2025-1.pdf\n"
     ]
    },
    {
     "name": "stderr",
     "output_type": "stream",
     "text": [
      "CropBox missing from /Page, defaulting to MediaBox\n",
      "CropBox missing from /Page, defaulting to MediaBox\n",
      "CropBox missing from /Page, defaulting to MediaBox\n"
     ]
    },
    {
     "name": "stdout",
     "output_type": "stream",
     "text": [
      "Extracting text from PDF...\n"
     ]
    },
    {
     "name": "stderr",
     "output_type": "stream",
     "text": [
      "CropBox missing from /Page, defaulting to MediaBox\n",
      "CropBox missing from /Page, defaulting to MediaBox\n",
      "CropBox missing from /Page, defaulting to MediaBox\n"
     ]
    },
    {
     "name": "stdout",
     "output_type": "stream",
     "text": [
      "\n",
      "You can now ask questions about the PDF.\n",
      "Type 'exit' to quit.\n"
     ]
    },
    {
     "name": "stdin",
     "output_type": "stream",
     "text": [
      "\n",
      "Ask a question:  who is Mr. Kabir Ahmed Shakir\n"
     ]
    },
    {
     "name": "stdout",
     "output_type": "stream",
     "text": [
      "\n",
      "Answer:\n",
      " Mr. Kabir Ahmed Shakir is the CFO of Tata Communications, as mentioned in the document where Sudeshna Patnaik introduces him during an earnings call for Q4 & full-year FY2025 Earnings Call. He provides financial highlights and insights into the company's performance after Amur Lakshminarayanan discusses business outlook, growth in various segments, and strategic interventions made during FY25.\n"
     ]
    }
   ],
   "source": [
    "\n",
    "if __name__ == \"__main__\":\n",
    "    pdf_path = input(\"Enter the path to your PDF file: \").strip()\n",
    "\n",
    "    if not os.path.exists(pdf_path):\n",
    "        print(\"PDF file not found.\")\n",
    "        exit(1)\n",
    "\n",
    "    print(\"Extracting text from PDF...\")\n",
    "    pdf_text = extract_text_from_pdf(pdf_path)\n",
    "\n",
    "    if not pdf_text:\n",
    "        print(\"No text could be extracted.\")\n",
    "        exit(1)\n",
    "\n",
    "    print(\"\\nYou can now ask questions about the PDF.\\nType 'exit' to quit.\")\n",
    "\n",
    "    while True:\n",
    "        question = input(\"\\nAsk a question: \").strip()\n",
    "        if question.lower() in [\"exit\", \"quit\"]:\n",
    "            break\n",
    "        try:\n",
    "            answer = ask_pdf_question(pdf_text, question)\n",
    "            print(\"\\nAnswer:\\n\", answer)\n",
    "        except Exception as e:\n",
    "            print(\"Error:\", e)\n"
   ]
  },
  {
   "cell_type": "code",
   "execution_count": null,
   "id": "40a5a769-37ea-4386-a59c-04a4f73a1213",
   "metadata": {},
   "outputs": [],
   "source": []
  }
 ],
 "metadata": {
  "kernelspec": {
   "display_name": "Python 3 (ipykernel)",
   "language": "python",
   "name": "python3"
  },
  "language_info": {
   "codemirror_mode": {
    "name": "ipython",
    "version": 3
   },
   "file_extension": ".py",
   "mimetype": "text/x-python",
   "name": "python",
   "nbconvert_exporter": "python",
   "pygments_lexer": "ipython3",
   "version": "3.13.3"
  }
 },
 "nbformat": 4,
 "nbformat_minor": 5
}
