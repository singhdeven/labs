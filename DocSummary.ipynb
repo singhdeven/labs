{
 "cells": [
  {
   "cell_type": "markdown",
   "id": "1b1fc064",
   "metadata": {},
   "source": [
    "# Installation of python packages"
   ]
  },
  {
   "cell_type": "code",
   "execution_count": 1,
   "id": "5b57ff99-a1e2-4cfb-84cc-10f5004d9603",
   "metadata": {},
   "outputs": [
    {
     "name": "stdout",
     "output_type": "stream",
     "text": [
      "Requirement already satisfied: pdfplumber in c:\\users\\mrdevendrasingh\\appdata\\local\\programs\\python\\python313\\lib\\site-packages (0.11.6)\n",
      "Requirement already satisfied: pdfminer.six==20250327 in c:\\users\\mrdevendrasingh\\appdata\\local\\programs\\python\\python313\\lib\\site-packages (from pdfplumber) (20250327)\n",
      "Requirement already satisfied: Pillow>=9.1 in c:\\users\\mrdevendrasingh\\appdata\\local\\programs\\python\\python313\\lib\\site-packages (from pdfplumber) (11.2.1)\n",
      "Requirement already satisfied: pypdfium2>=4.18.0 in c:\\users\\mrdevendrasingh\\appdata\\local\\programs\\python\\python313\\lib\\site-packages (from pdfplumber) (4.30.1)\n",
      "Requirement already satisfied: charset-normalizer>=2.0.0 in c:\\users\\mrdevendrasingh\\appdata\\local\\programs\\python\\python313\\lib\\site-packages (from pdfminer.six==20250327->pdfplumber) (3.4.2)\n",
      "Requirement already satisfied: cryptography>=36.0.0 in c:\\users\\mrdevendrasingh\\appdata\\local\\programs\\python\\python313\\lib\\site-packages (from pdfminer.six==20250327->pdfplumber) (45.0.1)\n",
      "Requirement already satisfied: cffi>=1.14 in c:\\users\\mrdevendrasingh\\appdata\\local\\programs\\python\\python313\\lib\\site-packages (from cryptography>=36.0.0->pdfminer.six==20250327->pdfplumber) (1.17.1)\n",
      "Requirement already satisfied: pycparser in c:\\users\\mrdevendrasingh\\appdata\\local\\programs\\python\\python313\\lib\\site-packages (from cffi>=1.14->cryptography>=36.0.0->pdfminer.six==20250327->pdfplumber) (2.22)\n",
      "Note: you may need to restart the kernel to use updated packages.\n"
     ]
    },
    {
     "name": "stderr",
     "output_type": "stream",
     "text": [
      "\n",
      "[notice] A new release of pip is available: 25.0.1 -> 25.1.1\n",
      "[notice] To update, run: python.exe -m pip install --upgrade pip\n"
     ]
    }
   ],
   "source": [
    "pip install pdfplumber"
   ]
  },
  {
   "cell_type": "markdown",
   "id": "957baa57-9fa2-44bd-b440-05115bad6333",
   "metadata": {},
   "source": [
    "# Import the packages and setup varibales for execution"
   ]
  },
  {
   "cell_type": "code",
   "execution_count": 9,
   "id": "a9d2c7be-84be-4f9b-925e-3305a9cc1196",
   "metadata": {},
   "outputs": [],
   "source": [
    "import requests\n",
    "import pdfplumber\n",
    "\n",
    "# Local server endpoint address\n",
    "api_url=\"http://localhost:1234/v1/chat/completions\"\n",
    "# model API identifier <-- Replace with model that you download and provision in LM Studio\n",
    "model_name=\"phi-3.1-mini-128k-instruct\"\n",
    "# Path to your PDF file <-- Replace with your PDF file path\n",
    "pdf_file = \"TataComms-q4-fy2025-1.pdf\"\n",
    "# Limit input text to 3000 characters\n",
    "max_input_length = 3000\n"
   ]
  },
  {
   "cell_type": "markdown",
   "id": "c9c4576c-106f-4ea5-9bfe-b4dcf6b57586",
   "metadata": {},
   "source": [
    "# Python function defintion for extracting text from PDF"
   ]
  },
  {
   "cell_type": "code",
   "execution_count": 10,
   "id": "bcf050e8-3d19-40d3-a0ff-c738bbf32bc3",
   "metadata": {},
   "outputs": [],
   "source": [
    "\n",
    "def extract_text_from_pdf(pdf_path):\n",
    "    with pdfplumber.open(pdf_path) as pdf:\n",
    "        full_text = \"\"\n",
    "        for page in pdf.pages:\n",
    "            text = page.extract_text()\n",
    "            if text:\n",
    "                full_text += text + \"\\n\"\n",
    "        return full_text.strip()\n"
   ]
  },
  {
   "cell_type": "markdown",
   "id": "9cf659b2-3298-4066-945b-27bffd394ff2",
   "metadata": {},
   "source": [
    "# Python function defintion for summarizatcalling the LLM deployed in LM Studio"
   ]
  },
  {
   "cell_type": "code",
   "execution_count": 11,
   "id": "46823b25-814c-4f47-b9a7-6d4f7ef7423e",
   "metadata": {},
   "outputs": [],
   "source": [
    "def summarize_text(text):\n",
    "   \n",
    "    truncated_text = text[:max_input_length]\n",
    "    \n",
    "    \"\"\"Sends the given text to the model for summarization.\"\"\"\n",
    "    prompt = f\"Please provide a concise summary of the following document:\\n\\n{truncated_text}\"\n",
    "    \n",
    "    payload = {\n",
    "        \"model\": model_name,\n",
    "        \"messages\": [\n",
    "            {\"role\": \"system\", \"content\": \"You are a helpful assistant.\"},\n",
    "            {\"role\": \"user\", \"content\": prompt}\n",
    "        ],\n",
    "        \"temperature\": 0.5,\n",
    "        \"max_tokens\": 1024  # Adjust depending on expected summary length\n",
    "    }\n",
    "\n",
    "    response = requests.post(api_url, json=payload)\n",
    "\n",
    "    if response.status_code == 200:\n",
    "        return response.json()['choices'][0]['message']['content']\n",
    "    else:\n",
    "        raise Exception(f\"Error {response.status_code}: {response.text}\")"
   ]
  },
  {
   "cell_type": "markdown",
   "id": "35334ea0-23b1-4ac9-a6ef-670e23eb3391",
   "metadata": {},
   "source": [
    "# Main function for initiating the summarization and calling other functions"
   ]
  },
  {
   "cell_type": "code",
   "execution_count": 12,
   "id": "f3b73ebd-36fe-4c7a-b45c-d18dc4f73d20",
   "metadata": {},
   "outputs": [
    {
     "name": "stderr",
     "output_type": "stream",
     "text": [
      "CropBox missing from /Page, defaulting to MediaBox\n",
      "CropBox missing from /Page, defaulting to MediaBox\n",
      "CropBox missing from /Page, defaulting to MediaBox\n"
     ]
    },
    {
     "name": "stdout",
     "output_type": "stream",
     "text": [
      "Extracting text from PDF...\n"
     ]
    },
    {
     "name": "stderr",
     "output_type": "stream",
     "text": [
      "CropBox missing from /Page, defaulting to MediaBox\n",
      "CropBox missing from /Page, defaulting to MediaBox\n",
      "CropBox missing from /Page, defaulting to MediaBox\n"
     ]
    },
    {
     "name": "stdout",
     "output_type": "stream",
     "text": [
      "Summarizing PDF file for a total chars of :  3000\n",
      "\n",
      "--- Summary ---\n",
      "\n",
      "Tata Communications reported strong performance and positive outlook for FY25 during their earnings call hosted by Sudeshna Patnaik on November 13th. Digital revenues grew by 29.5%, driven by growth in the enterprise market segment both domestically (8.7% YoY) and internationally (over 20% YoY). Full-year consolidated revenues reached Rs. 23,109 crores with data revenues growing at 13.7%. EBITDA margins were reported at 19.8%, while core business EBITDA margins held steady at 23.3%. The latter saw a slight decline due to increased provisions in the South region and costs associated with recent acquisitions, though cost synergy programs are expected to mitigate this impact moving forward. Quarterly data revenue for Q4 was Rs. 5,096 crores, marking growth from previous quarters. The company also noted a healthy order book and funnel performance contributing to their revenues in the fourth quarter of FY25.\n"
     ]
    }
   ],
   "source": [
    "\n",
    "if __name__ == \"__main__\":\n",
    "    \n",
    "    print(\"Extracting text from PDF...\")\n",
    "    pdf_text = extract_text_from_pdf(pdf_file)\n",
    "    # print(len(pdf_text))\n",
    "    \n",
    "    if len(pdf_text) > 0:\n",
    "        print(\"Summarizing PDF file for a total chars of : \", max_input_length)\n",
    "        try:\n",
    "            summary = summarize_text(pdf_text)\n",
    "            print(\"\\n--- Summary ---\\n\")\n",
    "            print(summary)\n",
    "        except Exception as e:\n",
    "            print(\"Failed to summarize:\", str(e))\n",
    "    else:\n",
    "        print(\"No text found in PDF.\")\n"
   ]
  },
  {
   "cell_type": "code",
   "execution_count": null,
   "id": "4aa919dd-d4bc-4e37-8bd3-f227ffd9ad91",
   "metadata": {},
   "outputs": [],
   "source": []
  }
 ],
 "metadata": {
  "kernelspec": {
   "display_name": "Python 3 (ipykernel)",
   "language": "python",
   "name": "python3"
  },
  "language_info": {
   "codemirror_mode": {
    "name": "ipython",
    "version": 3
   },
   "file_extension": ".py",
   "mimetype": "text/x-python",
   "name": "python",
   "nbconvert_exporter": "python",
   "pygments_lexer": "ipython3",
   "version": "3.13.3"
  }
 },
 "nbformat": 4,
 "nbformat_minor": 5
}
