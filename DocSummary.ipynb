{
 "cells": [
  {
   "cell_type": "markdown",
   "id": "1b1fc064",
   "metadata": {},
   "source": [
    "# Installation of PyPDF2 python library"
   ]
  },
  {
   "cell_type": "code",
   "execution_count": null,
   "id": "a8c1f3ef-4f95-48e2-bc18-763ac82f95ee",
   "metadata": {},
   "outputs": [],
   "source": [
    "!pip uninstall PyPDF2"
   ]
  },
  {
   "cell_type": "code",
   "execution_count": 6,
   "id": "5b57ff99-a1e2-4cfb-84cc-10f5004d9603",
   "metadata": {},
   "outputs": [
    {
     "name": "stdout",
     "output_type": "stream",
     "text": [
      "Collecting pdfplumber\n",
      "  Downloading pdfplumber-0.11.6-py3-none-any.whl.metadata (42 kB)\n",
      "Collecting pdfminer.six==20250327 (from pdfplumber)\n",
      "  Downloading pdfminer_six-20250327-py3-none-any.whl.metadata (4.1 kB)\n",
      "Collecting Pillow>=9.1 (from pdfplumber)\n",
      "  Downloading pillow-11.2.1-cp313-cp313-win_amd64.whl.metadata (9.1 kB)\n",
      "Collecting pypdfium2>=4.18.0 (from pdfplumber)\n",
      "  Downloading pypdfium2-4.30.1-py3-none-win_amd64.whl.metadata (48 kB)\n",
      "Requirement already satisfied: charset-normalizer>=2.0.0 in c:\\users\\mrdevendrasingh\\appdata\\local\\programs\\python\\python313\\lib\\site-packages (from pdfminer.six==20250327->pdfplumber) (3.4.2)\n",
      "Collecting cryptography>=36.0.0 (from pdfminer.six==20250327->pdfplumber)\n",
      "  Downloading cryptography-45.0.1-cp311-abi3-win_amd64.whl.metadata (5.7 kB)\n",
      "Requirement already satisfied: cffi>=1.14 in c:\\users\\mrdevendrasingh\\appdata\\local\\programs\\python\\python313\\lib\\site-packages (from cryptography>=36.0.0->pdfminer.six==20250327->pdfplumber) (1.17.1)\n",
      "Requirement already satisfied: pycparser in c:\\users\\mrdevendrasingh\\appdata\\local\\programs\\python\\python313\\lib\\site-packages (from cffi>=1.14->cryptography>=36.0.0->pdfminer.six==20250327->pdfplumber) (2.22)\n",
      "Downloading pdfplumber-0.11.6-py3-none-any.whl (60 kB)\n",
      "Downloading pdfminer_six-20250327-py3-none-any.whl (5.6 MB)\n",
      "   ---------------------------------------- 0.0/5.6 MB ? eta -:--:--\n",
      "   ----------- ---------------------------- 1.6/5.6 MB 10.8 MB/s eta 0:00:01\n",
      "   ---------------------------------------- 5.6/5.6 MB 20.7 MB/s eta 0:00:00\n",
      "Downloading pillow-11.2.1-cp313-cp313-win_amd64.whl (2.7 MB)\n",
      "   ---------------------------------------- 0.0/2.7 MB ? eta -:--:--\n",
      "   ---------------------------------------- 2.7/2.7 MB 63.0 MB/s eta 0:00:00\n",
      "Downloading pypdfium2-4.30.1-py3-none-win_amd64.whl (3.0 MB)\n",
      "   ---------------------------------------- 0.0/3.0 MB ? eta -:--:--\n",
      "   ---------------------------------------- 3.0/3.0 MB 46.2 MB/s eta 0:00:00\n",
      "Downloading cryptography-45.0.1-cp311-abi3-win_amd64.whl (3.4 MB)\n",
      "   ---------------------------------------- 0.0/3.4 MB ? eta -:--:--\n",
      "   ---------------------------------------- 3.4/3.4 MB 78.8 MB/s eta 0:00:00\n",
      "Installing collected packages: pypdfium2, Pillow, cryptography, pdfminer.six, pdfplumber\n",
      "Successfully installed Pillow-11.2.1 cryptography-45.0.1 pdfminer.six-20250327 pdfplumber-0.11.6 pypdfium2-4.30.1\n",
      "Note: you may need to restart the kernel to use updated packages.\n"
     ]
    },
    {
     "name": "stderr",
     "output_type": "stream",
     "text": [
      "\n",
      "[notice] A new release of pip is available: 25.0.1 -> 25.1.1\n",
      "[notice] To update, run: python.exe -m pip install --upgrade pip\n"
     ]
    }
   ],
   "source": [
    "pip install pdfplumber"
   ]
  },
  {
   "cell_type": "code",
   "execution_count": 1,
   "id": "bcf050e8-3d19-40d3-a0ff-c738bbf32bc3",
   "metadata": {},
   "outputs": [],
   "source": [
    "import requests\n",
    "import pdfplumber\n",
    "\n",
    "# Local server endpoint address\n",
    "api_url=\"http://localhost:1234/v1/chat/completions\"\n",
    "# model API identifier <-- Replace with model that you download and provision in LM Studio\n",
    "model_name=\"phi-3.1-mini-128k-instruct\"\n",
    "# Path to your PDF file <-- Replace with your PDF file path\n",
    "pdf_file = \"TataComms-q4-fy2025-1.pdf\"\n",
    "\n",
    "def extract_text_from_pdf(pdf_path):\n",
    "    with pdfplumber.open(pdf_path) as pdf:\n",
    "        full_text = \"\"\n",
    "        for page in pdf.pages:\n",
    "            text = page.extract_text()\n",
    "            if text:\n",
    "                full_text += text + \"\\n\"\n",
    "        return full_text.strip()\n",
    "\n",
    "def summarize_text_with_phi(text):\n",
    "    \"\"\"Sends the given text to the model for summarization.\"\"\"\n",
    "    prompt = f\"Please provide a concise summary of the following document:\\n\\n{text}\"\n",
    "    \n",
    "    payload = {\n",
    "        \"model\": model_name,\n",
    "        \"messages\": [\n",
    "            {\"role\": \"system\", \"content\": \"You are a helpful assistant.\"},\n",
    "            {\"role\": \"user\", \"content\": prompt}\n",
    "        ],\n",
    "        \"temperature\": 0.5,\n",
    "        \"max_tokens\": 1024  # Adjust depending on expected summary length\n",
    "    }\n",
    "\n",
    "    response = requests.post(api_url, json=payload)\n",
    "\n",
    "    if response.status_code == 200:\n",
    "        return response.json()['choices'][0]['message']['content']\n",
    "    else:\n",
    "        raise Exception(f\"Error {response.status_code}: {response.text}\")\n"
   ]
  },
  {
   "cell_type": "code",
   "execution_count": 3,
   "id": "f3b73ebd-36fe-4c7a-b45c-d18dc4f73d20",
   "metadata": {},
   "outputs": [
    {
     "name": "stderr",
     "output_type": "stream",
     "text": [
      "CropBox missing from /Page, defaulting to MediaBox\n",
      "CropBox missing from /Page, defaulting to MediaBox\n",
      "CropBox missing from /Page, defaulting to MediaBox\n"
     ]
    },
    {
     "name": "stdout",
     "output_type": "stream",
     "text": [
      "Extracting text from PDF...\n"
     ]
    },
    {
     "name": "stderr",
     "output_type": "stream",
     "text": [
      "CropBox missing from /Page, defaulting to MediaBox\n",
      "CropBox missing from /Page, defaulting to MediaBox\n",
      "CropBox missing from /Page, defaulting to MediaBox\n"
     ]
    },
    {
     "name": "stdout",
     "output_type": "stream",
     "text": [
      "9556\n",
      "Summarizing with phi-3.1-mini-128k-instruct...\n",
      "\n",
      "--- Summary ---\n",
      "\n",
      "Tata Communications reported strong growth for FY25, with digital revenues up by 29.5% year-over-year (YoY) due to robust performance from both Indian and international enterprise segments. Full-year consolidated revenues reached Rs. 23,109 crores, marking an increase of 11.2% YoY with data revenues growing by 13.7%. EBITDA margins were at 19.8%, while core business EBITDA margins held steady at 23.3%, despite a slight decline due to increased provisions in the South region and recent acquisitions which are currently dilutive but expected to yield cost synergies over time.\n",
      "\n",
      "In Q4, data revenue grew by 9.6% YoY reaching Rs. 5,096 crores with a sequential growth of 3.9%. The company also saw an increase in its order book and maintained healthy funnel activity across various large deals that are well diversified geographically.\n",
      "\n",
      "The financial highlights for the quarter included revenues from data services at Rs. 5,096 crores (QoQ growth of 3.9%, YoY growth of 9.6%), digital portfolio revenue growing by 17.5% YoY to reach Rs. 2,440 crores with a sequential QoQ increase of 5.5%. EBITDA for the quarter was reported at Rs. 1,122 crore (down from previous quarters), and full-year EBITDA margins were slightly lower than last year due to increased provisions in certain regions but remained robust overall.\n",
      "\n",
      "The company's strategic interventions such as divesting non-core businesses like TCPSL, monetizing large land parcels, action on Netfoundry and improving the profitability of TCTS have helped improve its balance sheet with a better gearing ratio in line with ambitions.\n",
      "\n",
      "Kabir Ahmed Shakir highlighted that despite certain challenges such as temporary customer-specific issues and spillover costs from cable repairs, strategic interventions like the launch of Vayu Cloud are expected to drive growth for data business while cost synergies on recent acquisitions will contribute positively in future quarters.\n"
     ]
    }
   ],
   "source": [
    "\n",
    "if __name__ == \"__main__\":\n",
    "    \n",
    "    print(\"Extracting text from PDF...\")\n",
    "    pdf_text = extract_text_from_pdf(pdf_file)\n",
    "    # print(len(pdf_text))\n",
    "    \n",
    "    if len(pdf_text) > 0:\n",
    "        print(\"Summarizing with phi-3.1-mini-128k-instruct...\")\n",
    "        try:\n",
    "            summary = summarize_text_with_phi(pdf_text)\n",
    "            print(\"\\n--- Summary ---\\n\")\n",
    "            print(summary)\n",
    "        except Exception as e:\n",
    "            print(\"Failed to summarize:\", str(e))\n",
    "    else:\n",
    "        print(\"No text found in PDF.\")\n"
   ]
  },
  {
   "cell_type": "code",
   "execution_count": null,
   "id": "182b4ff3-65d3-43b5-9613-37971b804d26",
   "metadata": {},
   "outputs": [],
   "source": []
  }
 ],
 "metadata": {
  "kernelspec": {
   "display_name": "Python 3 (ipykernel)",
   "language": "python",
   "name": "python3"
  },
  "language_info": {
   "codemirror_mode": {
    "name": "ipython",
    "version": 3
   },
   "file_extension": ".py",
   "mimetype": "text/x-python",
   "name": "python",
   "nbconvert_exporter": "python",
   "pygments_lexer": "ipython3",
   "version": "3.13.3"
  }
 },
 "nbformat": 4,
 "nbformat_minor": 5
}
