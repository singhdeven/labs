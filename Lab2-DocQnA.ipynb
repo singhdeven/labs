{
 "cells": [
  {
   "cell_type": "markdown",
   "id": "8ecd9087-b741-4c66-9a41-732c76374067",
   "metadata": {},
   "source": [
    "# Installation of python packages"
   ]
  },
  {
   "cell_type": "code",
   "execution_count": null,
   "id": "bf0c7957-c1a9-400f-8437-5adc136cf133",
   "metadata": {},
   "outputs": [],
   "source": [
    "!pip install pdfplumber\n",
    "!pip install pytesseract\n",
    "!pip install pdf2image"
   ]
  },
  {
   "cell_type": "markdown",
   "id": "6411e488-5b3a-4a57-9a0b-3a72e81f20da",
   "metadata": {},
   "source": [
    "# Import the packages and setup varibales for execution"
   ]
  },
  {
   "cell_type": "code",
   "execution_count": null,
   "id": "ef331ef1-9cd2-4dec-905b-eff360b80f52",
   "metadata": {},
   "outputs": [],
   "source": [
    "import os\n",
    "import requests\n",
    "import pdfplumber\n",
    "import pytesseract\n",
    "from pdf2image import convert_from_path\n",
    "\n",
    "# Local server endpoint address\n",
    "api_url=\"http://localhost:1234/v1/chat/completions\"\n",
    "# model API identifier <-- Replace with model that you download and provision in LM Studio\n",
    "model_name=\"phi-3.1-mini-128k-instruct\"\n",
    "# Path to your PDF file <-- Replace with your PDF file path\n",
    "pdf_file = \"TataComms-q4-fy2025-1.pdf\""
   ]
  },
  {
   "cell_type": "markdown",
   "id": "623e926a-2696-4c3d-9d11-77152a574306",
   "metadata": {},
   "source": [
    "# Python function defintion for extracting text from PDF"
   ]
  },
  {
   "cell_type": "code",
   "execution_count": null,
   "id": "98cf0318-643e-41c5-9ca7-ed93747b084a",
   "metadata": {},
   "outputs": [],
   "source": [
    "\n",
    "def extract_text_from_pdf(pdf_path):\n",
    "    \"\"\"Try extracting text using pdfplumber, fallback to OCR if needed.\"\"\"\n",
    "    try:\n",
    "        with pdfplumber.open(pdf_path) as pdf:\n",
    "            text = \"\\n\".join([p.extract_text() or \"\" for p in pdf.pages]).strip()\n",
    "        if text:\n",
    "            return text\n",
    "    except Exception as e:\n",
    "        print(\"pdfplumber failed:\", e)\n",
    "\n",
    "    print(\"Using OCR fallback...\")\n",
    "    images = convert_from_path(pdf_path)\n",
    "    ocr_text = \"\"\n",
    "    for img in images:\n",
    "        ocr_text += pytesseract.image_to_string(img)\n",
    "    return ocr_text.strip()\n"
   ]
  },
  {
   "cell_type": "markdown",
   "id": "bccd739b-2a50-4477-a285-1ac837f9f111",
   "metadata": {},
   "source": [
    "# Python function defintion for QnA and calling the LLM deployed in LM Studio"
   ]
  },
  {
   "cell_type": "code",
   "execution_count": null,
   "id": "429a247f-2d65-48e2-9f61-c6461bab723a",
   "metadata": {},
   "outputs": [],
   "source": [
    "def ask_pdf_question(pdf_text, question):\n",
    "    \"\"\"Sends the PDF content and user question to the model.\"\"\"\n",
    "    prompt = f\"You are given the following document:\\n\\n{pdf_text[:3000]}\\n\\nAnswer the following question based on it:\\n\\n{question}\"\n",
    "\n",
    "    payload = {\n",
    "        \"model\": model_name,\n",
    "        \"messages\": [\n",
    "            {\"role\": \"system\", \"content\": \"You are a helpful assistant that answers questions based on provided documents.\"},\n",
    "            {\"role\": \"user\", \"content\": prompt}\n",
    "        ],\n",
    "        \"temperature\": 0.3,\n",
    "        \"max_tokens\": 1024\n",
    "    }\n",
    "\n",
    "    response = requests.post(api_url, json=payload)\n",
    "    if response.status_code == 200:\n",
    "        return response.json()['choices'][0]['message']['content']\n",
    "    else:\n",
    "        raise Exception(f\"API Error {response.status_code}: {response.text}\")"
   ]
  },
  {
   "cell_type": "markdown",
   "id": "8c0ca1ee-d005-4f13-ae54-773f0f32df4d",
   "metadata": {},
   "source": [
    "# Main function for initiating the QnA Chatbot and calling other functions"
   ]
  },
  {
   "cell_type": "code",
   "execution_count": null,
   "id": "d27f5985-b9d4-48d8-aad8-fd46b649d0a4",
   "metadata": {},
   "outputs": [],
   "source": [
    "\n",
    "if __name__ == \"__main__\":\n",
    "    #pdf_path = input(\"Enter the path to your PDF file: \").strip()\n",
    "\n",
    "    if not os.path.exists(pdf_file):\n",
    "        print(\"PDF file not found.\")\n",
    "        exit(1)\n",
    "\n",
    "    print(\"Extracting text from PDF...\")\n",
    "    pdf_text = extract_text_from_pdf(pdf_file)\n",
    "\n",
    "    if not pdf_text:\n",
    "        print(\"No text could be extracted.\")\n",
    "        exit(1)\n",
    "\n",
    "    print(\"\\nYou can now ask questions about the PDF.\\nType 'exit' to quit.\")\n",
    "\n",
    "    while True:\n",
    "        question = input(\"\\nAsk a question: \").strip()\n",
    "        if question.lower() in [\"exit\", \"quit\"]:\n",
    "            break\n",
    "        try:\n",
    "            print(\"\\nGenerating...\\n\")\n",
    "            answer = ask_pdf_question(pdf_text, question)\n",
    "            print(\"\\nAnswer:\\n\", answer)\n",
    "        except Exception as e:\n",
    "            print(\"Error:\", e)\n"
   ]
  },
  {
   "cell_type": "code",
   "execution_count": null,
   "id": "40a5a769-37ea-4386-a59c-04a4f73a1213",
   "metadata": {},
   "outputs": [],
   "source": []
  },
  {
   "cell_type": "code",
   "execution_count": null,
   "id": "925c924d-ec85-4696-bc02-9406eb183ebc",
   "metadata": {},
   "outputs": [],
   "source": []
  }
 ],
 "metadata": {
  "kernelspec": {
   "display_name": "Python 3 (ipykernel)",
   "language": "python",
   "name": "python3"
  },
  "language_info": {
   "codemirror_mode": {
    "name": "ipython",
    "version": 3
   },
   "file_extension": ".py",
   "mimetype": "text/x-python",
   "name": "python",
   "nbconvert_exporter": "python",
   "pygments_lexer": "ipython3",
   "version": "3.13.3"
  }
 },
 "nbformat": 4,
 "nbformat_minor": 5
}
