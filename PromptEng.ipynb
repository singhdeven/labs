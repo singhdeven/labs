{
 "cells": [
  {
   "cell_type": "code",
   "execution_count": null,
   "id": "a02f1898-286b-4e5f-85d7-684fade26cdd",
   "metadata": {},
   "outputs": [],
   "source": [
    "import requests\n",
    "\n",
    "# Configuration\n",
    "API_URL = \"http://localhost:1234/v1/chat/completions\"\n",
    "MODEL_NAME = \"phi-3.1-mini-128k-instruct\"  # this is optional in LM Studio if only one model is active\n",
    "\n",
    "# Prompt\n",
    "prompt = \"Explain the theory of relativity in simple terms.\"\n",
    "\n",
    "# Construct payload\n",
    "payload = {\n",
    "    \"model\": MODEL_NAME,\n",
    "    \"messages\": [\n",
    "        {\"role\": \"system\", \"content\": \"You are a helpful assistant.\"},\n",
    "        {\"role\": \"user\", \"content\": prompt}\n",
    "    ],\n",
    "    \"temperature\": 0.7\n",
    "}\n",
    "\n",
    "# Send request\n",
    "response = requests.post(API_URL, json=payload)\n",
    "\n",
    "# Parse and print response\n",
    "if response.status_code == 200:\n",
    "    data = response.json()\n",
    "    reply = data['choices'][0]['message']['content']\n",
    "    print(\"Model response:\\n\", reply)\n",
    "else:\n",
    "    print(f\"Request failed with status code {response.status_code}\")\n",
    "    print(\"Response:\", response.text)\n"
   ]
  },
  {
   "cell_type": "code",
   "execution_count": null,
   "id": "00c61c0c-bf53-485a-928d-122a0797fb55",
   "metadata": {},
   "outputs": [],
   "source": []
  },
  {
   "cell_type": "code",
   "execution_count": null,
   "id": "9db13a0c-dad2-4cae-809f-a838337dadf3",
   "metadata": {},
   "outputs": [],
   "source": []
  }
 ],
 "metadata": {
  "kernelspec": {
   "display_name": "Python 3 (ipykernel)",
   "language": "python",
   "name": "python3"
  },
  "language_info": {
   "codemirror_mode": {
    "name": "ipython",
    "version": 3
   },
   "file_extension": ".py",
   "mimetype": "text/x-python",
   "name": "python",
   "nbconvert_exporter": "python",
   "pygments_lexer": "ipython3",
   "version": "3.13.3"
  }
 },
 "nbformat": 4,
 "nbformat_minor": 5
}
